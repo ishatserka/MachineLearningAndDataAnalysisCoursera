{
 "cells": [
  {
   "cell_type": "markdown",
   "metadata": {
    "collapsed": true
   },
   "source": [
    "##Оптимизация в Python: глобальная оптимизация и оптимизация негладкой функции"
   ]
  },
  {
   "cell_type": "markdown",
   "metadata": {},
   "source": [
    "###Задача 1. Минимизация гладкой функции"
   ]
  },
  {
   "cell_type": "code",
   "execution_count": 13,
   "metadata": {},
   "outputs": [],
   "source": [
    "import numpy as np\n",
    "from scipy.optimize import minimize\n",
    "from matplotlib import pyplot as plt"
   ]
  },
  {
   "cell_type": "code",
   "execution_count": 14,
   "metadata": {},
   "outputs": [],
   "source": [
    "def f(x):\n",
    "    return np.sin(x / 5.0) * np.exp(x / 10.0) + 5.0 * np.exp(-x / 2.0)"
   ]
  },
  {
   "cell_type": "code",
   "execution_count": 27,
   "metadata": {},
   "outputs": [
    {
     "name": "stdout",
     "output_type": "stream",
     "text": [
      "      fun: 1.7452682903447336\n hess_inv: array([[ 5.98752645]])\n      jac: array([ -2.04145908e-06])\n  message: 'Optimization terminated successfully.'\n     nfev: 21\n      nit: 6\n     njev: 7\n   status: 0\n  success: True\n        x: array([ 4.13627628])\n      fun: -11.898894665981313\n hess_inv: array([[ 1.67936744]])\n      jac: array([ 0.])\n  message: 'Optimization terminated successfully.'\n     nfev: 21\n      nit: 6\n     njev: 7\n   status: 0\n  success: True\n        x: array([ 25.88019321])\n"
     ]
    }
   ],
   "source": [
    "res2 = minimize(f, 2, method='BFGS')\n",
    "print(res2)\n",
    "res30 = minimize(f, 30, method='BFGS')\n",
    "print(res30)"
   ]
  },
  {
   "cell_type": "code",
   "execution_count": 16,
   "metadata": {},
   "outputs": [
    {
     "name": "stdout",
     "output_type": "stream",
     "text": [
      "1.74526829034\n"
     ]
    }
   ],
   "source": [
    "print(f(4.13627628))"
   ]
  },
  {
   "cell_type": "code",
   "execution_count": 26,
   "metadata": {},
   "outputs": [
    {
     "data": {
      "image/png": "[encoded data removed]",
      "text/plain": [
       "<matplotlib.figure.Figure at 0x7f66b00>"
      ]
     },
     "metadata": {},
     "output_type": "display_data"
    }
   ],
   "source": [
    "x = np.arange(2, 30.1, 0.1)\n",
    "plt.plot(x, f(x))\n",
    "plt.show()"
   ]
  },
  {
   "cell_type": "code",
   "execution_count": 30,
   "metadata": {},
   "outputs": [],
   "source": [
    "with open(\"e:\\\\git\\\\MachineLearningCoursera\\\\\\MathAndPython\\\\week3\\\\answer_w03_01.txt\", \"w\") as file:\n",
    "    file.write(f\"{round(res2.fun, 2)} {round(res30.fun, 2)}\")"
   ]
  },
  {
   "cell_type": "markdown",
   "metadata": {},
   "source": [
    "###Задача 2. Глобальная оптимизация"
   ]
  },
  {
   "cell_type": "code",
   "execution_count": 31,
   "metadata": {},
   "outputs": [],
   "source": [
    "from scipy.optimize import differential_evolution as evo"
   ]
  },
  {
   "cell_type": "code",
   "execution_count": 32,
   "metadata": {},
   "outputs": [
    {
     "name": "stdout",
     "output_type": "stream",
     "text": [
      "     fun: array([-11.89889467])\n     jac: array([  5.15143483e-06])\n message: 'Optimization terminated successfully.'\n    nfev: 96\n     nit: 5\n success: True\n       x: array([ 25.88020132])\n"
     ]
    }
   ],
   "source": [
    "res230 = evo(f, [(2, 30)])\n",
    "print(res230)"
   ]
  },
  {
   "cell_type": "code",
   "execution_count": 34,
   "metadata": {},
   "outputs": [],
   "source": [
    "with open(\"e:\\\\git\\\\MachineLearningCoursera\\\\\\MathAndPython\\\\week3\\\\answer_w03_02.txt\", \"w\") as file:\n",
    "    file.write(f\"{round(res230.fun[0], 2)}\")"
   ]
  },
  {
   "cell_type": "markdown",
   "metadata": {},
   "source": [
    "###Задача 3. Минимизация негладкой функции"
   ]
  },
  {
   "cell_type": "code",
   "execution_count": 93,
   "metadata": {},
   "outputs": [],
   "source": [
    "import math\n",
    "\n",
    "\n",
    "def h(x):\n",
    "    return np.int_(f(x))"
   ]
  },
  {
   "cell_type": "code",
   "execution_count": 94,
   "metadata": {},
   "outputs": [
    {
     "name": "stdout",
     "output_type": "stream",
     "text": [
      "[  2   1   1   1   1   2   2   2   2   2   2   1   1   0   0  -1  -2  -4\n  -5  -7  -8  -9 -10 -11 -11 -11 -10  -8  -5]\n"
     ]
    },
    {
     "data": {
      "image/png": "[encoded data removed]",
      "text/plain": [
       "<matplotlib.figure.Figure at 0xb0655c0>"
      ]
     },
     "metadata": {},
     "output_type": "display_data"
    }
   ],
   "source": [
    "x = np.arange(2, 31, 1)\n",
    "print(h(x))\n",
    "plt.plot(x, h(x))\n",
    "plt.show()"
   ]
  },
  {
   "cell_type": "code",
   "execution_count": 95,
   "metadata": {},
   "outputs": [
    {
     "name": "stdout",
     "output_type": "stream",
     "text": [
      "      fun: array([-5])\n hess_inv: array([[1]])\n      jac: array([ 0.])\n  message: 'Optimization terminated successfully.'\n     nfev: 3\n      nit: 0\n     njev: 1\n   status: 0\n  success: True\n        x: array([ 30.])\n     fun: -11.0\n message: 'Optimization terminated successfully.'\n    nfev: 77\n     nit: 4\n success: True\n       x: array([ 25.52142606])\n"
     ]
    }
   ],
   "source": [
    "res30 = minimize(h, 30, method='BFGS')\n",
    "print(res30)\n",
    "res230 = evo(h, [(2, 30)])\n",
    "print(res230)"
   ]
  },
  {
   "cell_type": "code",
   "execution_count": 97,
   "metadata": {},
   "outputs": [],
   "source": [
    "with open(\"e:\\\\git\\\\MachineLearningCoursera\\\\\\MathAndPython\\\\week3\\\\answer_w03_03.txt\", \"w\") as file:\n",
    "    file.write(f\"{res30.fun[0]} {res230.fun}\")"
   ]
  },
  {
   "cell_type": "code",
   "execution_count": null,
   "metadata": {},
   "outputs": [],
   "source": []
  }
 ],
 "metadata": {
  "kernelspec": {
   "display_name": "Python 2",
   "language": "python",
   "name": "python2"
  },
  "language_info": {
   "codemirror_mode": {
    "name": "ipython",
    "version": 2
   },
   "file_extension": ".py",
   "mimetype": "text/x-python",
   "name": "python",
   "nbconvert_exporter": "python",
   "pygments_lexer": "ipython2",
   "version": "2.7.6"
  }
 },
 "nbformat": 4,
 "nbformat_minor": 0
}
