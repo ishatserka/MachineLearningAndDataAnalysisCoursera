{
 "cells": [
  {
   "cell_type": "markdown",
   "metadata": {},
   "source": [
    "# Линейная регрессия и стохастический градиентный спуск"
   ]
  },
  {
   "cell_type": "markdown",
   "metadata": {},
   "source": [
    "Задание основано на материалах лекций по линейной регрессии и градиентному спуску. Вы будете прогнозировать выручку компании в зависимости от уровня ее инвестиций в рекламу по TV, в газетах и по радио."
   ]
  },
  {
   "cell_type": "markdown",
   "metadata": {},
   "source": [
    "## Вы научитесь:\n",
    "- решать задачу восстановления линейной регрессии\n",
    "- реализовывать стохастический градиентный спуск для ее настройки\n",
    "- решать задачу линейной регрессии аналитически"
   ]
  },
  {
   "cell_type": "markdown",
   "metadata": {},
   "source": [
    "## Введение\n",
    "Линейная регрессия - один из наиболее хорошо изученных методов машинного обучения, позволяющий прогнозировать значения количественного признака в виде линейной комбинации прочих признаков с параметрами - весами модели. Оптимальные (в смысле минимальности некоторого функционала ошибки) параметры линейной регрессии можно найти аналитически с помощью нормального уравнения или численно с помощью методов оптимизации.  "
   ]
  },
  {
   "cell_type": "markdown",
   "metadata": {},
   "source": [
    "Линейная регрессия использует простой функционал качества - среднеквадратичную ошибку. Мы будем работать с выборкой, содержащей 3 признака. Для настройки параметров (весов) модели решается следующая задача:\n",
    "$$\\Large \\frac{1}{\\ell}\\sum_{i=1}^\\ell{{((w_0 + w_1x_{i1} + w_2x_{i2} +  w_3x_{i3}) - y_i)}^2} \\rightarrow \\min_{w_0, w_1, w_2, w_3},$$\n",
    "где $x_{i1}, x_{i2}, x_{i3}$ - значения признаков $i$-го объекта, $y_i$ - значение целевого признака $i$-го объекта, $\\ell$ - число объектов в обучающей выборке."
   ]
  },
  {
   "cell_type": "markdown",
   "metadata": {},
   "source": [
    "## Градиентный спуск\n",
    "Параметры $w_0, w_1, w_2, w_3$, по которым минимизируется среднеквадратичная ошибка, можно находить численно с помощью градиентного спуска.\n",
    "Градиентный шаг для весов будет выглядеть следующим образом:\n",
    "$$\\Large w_0 \\leftarrow w_0 - \\frac{2\\eta}{\\ell} \\sum_{i=1}^\\ell{{((w_0 + w_1x_{i1} + w_2x_{i2} +  w_3x_{i3}) - y_i)}}$$\n",
    "$$\\Large w_j \\leftarrow w_j - \\frac{2\\eta}{\\ell} \\sum_{i=1}^\\ell{{x_{ij}((w_0 + w_1x_{i1} + w_2x_{i2} +  w_3x_{i3}) - y_i)}},\\ j \\in \\{1,2,3\\}$$\n",
    "Здесь $\\eta$ - параметр, шаг градиентного спуска."
   ]
  },
  {
   "cell_type": "markdown",
   "metadata": {},
   "source": [
    "## Стохастический градиентный спуск\n",
    "Проблема градиентного спуска, описанного выше, в том, что на больших выборках считать на каждом шаге градиент по всем имеющимся данным может быть очень вычислительно сложно. \n",
    "В стохастическом варианте градиентного спуска поправки для весов вычисляются только с учетом одного случайно взятого объекта обучающей выборки:\n",
    "$$\\Large w_0 \\leftarrow w_0 - \\frac{2\\eta}{\\ell} {((w_0 + w_1x_{k1} + w_2x_{k2} +  w_3x_{k3}) - y_k)}$$\n",
    "$$\\Large w_j \\leftarrow w_j - \\frac{2\\eta}{\\ell} {x_{kj}((w_0 + w_1x_{k1} + w_2x_{k2} +  w_3x_{k3}) - y_k)},\\ j \\in \\{1,2,3\\},$$\n",
    "где $k$ - случайный индекс, $k \\in \\{1, \\ldots, \\ell\\}$."
   ]
  },
  {
   "cell_type": "markdown",
   "metadata": {},
   "source": [
    "## Нормальное уравнение \n",
    "Нахождение вектора оптимальных весов $w$ может быть сделано и аналитически.\n",
    "Мы хотим найти такой вектор весов $w$, чтобы вектор $y$, приближающий целевой признак, получался умножением матрицы $X$ (состоящей из всех признаков объектов обучающей выборки, кроме целевого) на вектор весов $w$. То есть, чтобы выполнялось матричное уравнение:\n",
    "$$\\Large y = Xw$$\n",
    "Домножением слева на $X^T$ получаем:\n",
    "$$\\Large X^Ty = X^TXw$$\n",
    "Это хорошо, поскольку теперь матрица $X^TX$ - квадратная, и можно найти решение (вектор $w$) в виде:\n",
    "$$\\Large w = {(X^TX)}^{-1}X^Ty$$\n",
    "Матрица ${(X^TX)}^{-1}X^T$ - [*псевдообратная*](https://ru.wikipedia.org/wiki/Псевдообратная_матрица) для матрицы $X$. В NumPy такую матрицу можно вычислить с помощью функции [numpy.linalg.pinv](http://docs.scipy.org/doc/numpy-1.10.0/reference/generated/numpy.linalg.pinv.html).\n",
    "\n",
    "Однако, нахождение псевдообратной матрицы - операция вычислительно сложная и нестабильная в случае малого определителя матрицы $X$ (проблема мультиколлинеарности). \n",
    "На практике лучше находить вектор весов $w$ решением матричного уравнения \n",
    "$$\\Large X^TXw = X^Ty$$Это может быть сделано с помощью функции [numpy.linalg.solve](http://docs.scipy.org/doc/numpy-1.10.1/reference/generated/numpy.linalg.solve.html).\n",
    "\n",
    "Но все же на практике для больших матриц $X$ быстрее работает градиентный спуск, особенно его стохастическая версия."
   ]
  },
  {
   "cell_type": "markdown",
   "metadata": {},
   "source": [
    "## Инструкции по выполнению"
   ]
  },
  {
   "cell_type": "markdown",
   "metadata": {},
   "source": [
    "В начале напишем простую функцию для записи ответов в текстовый файл. Ответами будут числа, полученные в ходе решения этого задания, округленные до 3 знаков после запятой. Полученные файлы после выполнения задания надо отправить в форму на странице задания на Coursera.org."
   ]
  },
  {
   "cell_type": "code",
   "execution_count": 1,
   "metadata": {},
   "outputs": [],
   "source": [
    "def write_answer_to_file(answer, filename):\n",
    "    with open(filename, 'w') as f_out:\n",
    "        f_out.write(str(round(answer, 3)))"
   ]
  },
  {
   "cell_type": "markdown",
   "metadata": {},
   "source": [
    "**1. Загрузите данные из файла *advertising.csv* в объект pandas DataFrame. [Источник данных](http://www-bcf.usc.edu/~gareth/ISL/data.html).**"
   ]
  },
  {
   "cell_type": "code",
   "execution_count": 3,
   "metadata": {},
   "outputs": [],
   "source": [
    "import pandas as pd\n",
    "adver_data = pd.read_csv('advertising.csv')"
   ]
  },
  {
   "cell_type": "markdown",
   "metadata": {
    "collapsed": true
   },
   "source": [
    "**Посмотрите на первые 5 записей и на статистику признаков в этом наборе данных.**"
   ]
  },
  {
   "cell_type": "code",
   "execution_count": 4,
   "metadata": {},
   "outputs": [],
   "source": [
    "import numpy as np"
   ]
  },
  {
   "cell_type": "code",
   "execution_count": 5,
   "metadata": {},
   "outputs": [
    {
     "name": "stdout",
     "output_type": "stream",
     "text": [
      "      TV  Radio  Newspaper  Sales\n1  230.1   37.8       69.2   22.1\n2   44.5   39.3       45.1   10.4\n3   17.2   45.9       69.3    9.3\n4  151.5   41.3       58.5   18.5\n5  180.8   10.8       58.4   12.9\n"
     ]
    }
   ],
   "source": [
    "print(adver_data.head(5))"
   ]
  },
  {
   "cell_type": "code",
   "execution_count": 6,
   "metadata": {},
   "outputs": [],
   "source": [
    "\n"
   ]
  },
  {
   "cell_type": "markdown",
   "metadata": {},
   "source": [
    "**Создайте массивы NumPy *X* из столбцов TV, Radio и Newspaper и *y* - из столбца Sales. Используйте атрибут *values* объекта pandas DataFrame.**"
   ]
  },
  {
   "cell_type": "code",
   "execution_count": 6,
   "metadata": {},
   "outputs": [],
   "source": [
    "X = adver_data.drop(\"Sales\", axis=1).values\n",
    "y = adver_data.Sales.values"
   ]
  },
  {
   "cell_type": "code",
   "execution_count": 7,
   "metadata": {},
   "outputs": [],
   "source": [
    "print(y[: 5])\n",
    "print(X[: 5])"
   ]
  },
  {
   "cell_type": "markdown",
   "metadata": {},
   "source": [
    "**Отмасштабируйте столбцы матрицы *X*, вычтя из каждого значения среднее по соответствующему столбцу и поделив результат на стандартное отклонение. Для определенности, используйте методы mean и std векторов NumPy (реализация std в Pandas может отличаться). Обратите внимание, что в numpy вызов функции .mean() без параметров возвращает среднее по всем элементам массива, а не по столбцам, как в pandas. Чтобы произвести вычисление по столбцам, необходимо указать параметр axis.**"
   ]
  },
  {
   "cell_type": "code",
   "execution_count": 8,
   "metadata": {},
   "outputs": [
    {
     "name": "stdout",
     "output_type": "stream",
     "text": [
      "3\n14.809645640595186\n"
     ]
    }
   ],
   "source": [
    "a = np.array([[1, 2, 3],\n",
    "              [4, 5, 6],\n",
    "              [7, 8, 9]])\n",
    "print(a[0, 2])\n",
    "s = np.std(X[:, 1])\n",
    "print(s)"
   ]
  },
  {
   "cell_type": "code",
   "execution_count": 9,
   "metadata": {
    "collapsed": true
   },
   "outputs": [
    {
     "name": "stdout",
     "output_type": "stream",
     "text": [
      "means = [147.0425  23.264   30.554 ]\nstds = [85.63933176 14.80964564 21.72410606]\n"
     ]
    }
   ],
   "source": [
    "means, stds = np.mean(X,axis=0), np.std(X, axis=0)\n",
    "print(f\"means = {means}\\nstds = {stds}\")"
   ]
  },
  {
   "cell_type": "code",
   "execution_count": 9,
   "metadata": {},
   "outputs": [],
   "source": [
    "X = np.array([(X[:, 0] - means[0]) / stds[0],\n",
    "              (X[:, 1] - means[1]) / stds[1],\n",
    "              (X[:, 2] - means[2]) / stds[2]]).T\n",
    "print(\"X:\\n\", X[:5])\n",
    "\n",
    "\n"
   ]
  },
  {
   "cell_type": "markdown",
   "metadata": {},
   "source": [
    "**Добавьте к матрице *X* столбец из единиц, используя методы *hstack*, *ones* и *reshape* библиотеки NumPy. Вектор из единиц нужен для того, чтобы не обрабатывать отдельно коэффициент $w_0$ линейной регрессии.**"
   ]
  },
  {
   "cell_type": "code",
   "execution_count": 11,
   "metadata": {},
   "outputs": [
    {
     "name": "stdout",
     "output_type": "stream",
     "text": [
      "\n\n"
     ]
    }
   ],
   "source": [
    "print()\n",
    "print()\n",
    "A =X"
   ]
  },
  {
   "cell_type": "code",
   "execution_count": 12,
   "metadata": {},
   "outputs": [],
   "source": [
    "X = np.insert(X, 0, np.ones(X[:,0].size), axis=1)#np.append(X, np.reshape(np.ones(X[:,0].size), (200, 1)), axis=1)\n"
   ]
  },
  {
   "cell_type": "code",
   "execution_count": 13,
   "metadata": {},
   "outputs": [
    {
     "name": "stdout",
     "output_type": "stream",
     "text": [
      "[[ 1.          0.96985227  0.98152247  1.77894547]\n [ 1.         -1.19737623  1.08280781  0.66957876]\n [ 1.         -1.51615499  1.52846331  1.78354865]\n [ 1.          0.05204968  1.21785493  1.28640506]\n [ 1.          0.3941822  -0.84161366  1.28180188]]\n"
     ]
    }
   ],
   "source": [
    "print(X[:5])"
   ]
  },
  {
   "cell_type": "markdown",
   "metadata": {},
   "source": [
    "**2. Реализуйте функцию *mserror* - среднеквадратичную ошибку прогноза. Она принимает два аргумента - объекты Series *y* (значения целевого признака) и *y\\_pred* (предсказанные значения). Не используйте в этой функции циклы - тогда она будет вычислительно неэффективной.**"
   ]
  },
  {
   "cell_type": "code",
   "execution_count": 14,
   "metadata": {},
   "outputs": [
    {
     "ename": "NameError",
     "evalue": "name 'mserror' is not defined",
     "traceback": [
      "\u001b[0;31m---------------------------------------------------------------------------\u001b[0m",
      "\u001b[0;31mNameError\u001b[0m                                 Traceback (most recent call last)",
      "\u001b[0;32m<ipython-input-14-20bdc2591d15>\u001b[0m in \u001b[0;36m<module>\u001b[0;34m()\u001b[0m\n\u001b[1;32m      1\u001b[0m \u001b[0ma\u001b[0m \u001b[0;34m=\u001b[0m \u001b[0mnp\u001b[0m\u001b[0;34m.\u001b[0m\u001b[0marray\u001b[0m\u001b[0;34m(\u001b[0m\u001b[0;34m[\u001b[0m\u001b[0;36m1\u001b[0m\u001b[0;34m,\u001b[0m \u001b[0;36m2\u001b[0m\u001b[0;34m,\u001b[0m \u001b[0;36m3\u001b[0m\u001b[0;34m]\u001b[0m\u001b[0;34m)\u001b[0m\u001b[0;34m\u001b[0m\u001b[0m\n\u001b[1;32m      2\u001b[0m \u001b[0mb\u001b[0m \u001b[0;34m=\u001b[0m \u001b[0mnp\u001b[0m\u001b[0;34m.\u001b[0m\u001b[0marray\u001b[0m\u001b[0;34m(\u001b[0m\u001b[0;34m[\u001b[0m\u001b[0;36m2\u001b[0m\u001b[0;34m,\u001b[0m \u001b[0;36m2\u001b[0m\u001b[0;34m,\u001b[0m \u001b[0;36m3\u001b[0m\u001b[0;34m]\u001b[0m\u001b[0;34m)\u001b[0m\u001b[0;34m\u001b[0m\u001b[0m\n\u001b[0;32m----> 3\u001b[0;31m \u001b[0mprint\u001b[0m\u001b[0;34m(\u001b[0m\u001b[0mmserror\u001b[0m\u001b[0;34m(\u001b[0m\u001b[0ma\u001b[0m\u001b[0;34m,\u001b[0m \u001b[0mb\u001b[0m\u001b[0;34m)\u001b[0m\u001b[0;34m)\u001b[0m\u001b[0;34m\u001b[0m\u001b[0m\n\u001b[0m",
      "\u001b[0;31mNameError\u001b[0m: name 'mserror' is not defined"
     ],
     "output_type": "error"
    }
   ],
   "source": [
    "a = np.array([1, 2, 3])\n",
    "b = np.array([2, 2, 3])\n",
    "print(mserror(a, b))"
   ]
  },
  {
   "cell_type": "code",
   "execution_count": 15,
   "metadata": {
    "collapsed": true
   },
   "outputs": [],
   "source": [
    "def mserror(y, y_pred):\n",
    "    return sum((y_pred - y)**2)/len(y)"
   ]
  },
  {
   "cell_type": "markdown",
   "metadata": {},
   "source": [
    "**Какова среднеквадратичная ошибка прогноза значений Sales, если всегда предсказывать медианное значение Sales по исходной выборке? Запишите ответ в файл '1.txt'.**"
   ]
  },
  {
   "cell_type": "code",
   "execution_count": 16,
   "metadata": {},
   "outputs": [
    {
     "name": "stdout",
     "output_type": "stream",
     "text": [
      "28.34575\n"
     ]
    }
   ],
   "source": [
    "answer1 = mserror(y, np.ones(y.size)*np.median(y))\n",
    "print(answer1)\n",
    "write_answer_to_file(answer1, '1.txt')"
   ]
  },
  {
   "cell_type": "markdown",
   "metadata": {},
   "source": [
    "**3. Реализуйте функцию *normal_equation*, которая по заданным матрицам (массивам NumPy) *X* и *y* вычисляет вектор весов $w$ согласно нормальному уравнению линейной регрессии.**"
   ]
  },
  {
   "cell_type": "code",
   "execution_count": 17,
   "metadata": {},
   "outputs": [
    {
     "name": "stdout",
     "output_type": "stream",
     "text": [
      "(4, 200)\n[14.0225      3.91925365  2.79206274 -0.02253861]\n[14.0225      3.91925365  2.79206274 -0.02253861]\n[14.0225      3.91925365  2.79206274 -0.02253861]\nFalse\n[20.52397441 12.33785482 12.30767078 17.59782951 13.18867186]\n[22.1 10.4  9.3 18.5 12.9]\n"
     ]
    }
   ],
   "source": [
    "X_T = X.T\n",
    "print(X_T.shape)\n",
    "Y = X_T.dot(y)\n",
    "print(np.linalg.inv(X.T.dot(X)).dot(X.T.dot(y)))\n",
    "print(np.linalg.pinv(X).dot(y))\n",
    "w = np.linalg.solve(X.T.dot(X), X.T.dot(y))\n",
    "print(w)\n",
    "print(np.allclose(X.dot(w), y))\n",
    "print(X.dot(w)[:5])\n",
    "print(y[:5])"
   ]
  },
  {
   "cell_type": "code",
   "execution_count": 18,
   "metadata": {
    "collapsed": true
   },
   "outputs": [],
   "source": [
    "def normal_equation(big_x, y):\n",
    "    return np.linalg.inv(np.dot(big_x.T, big_x)).dot(np.dot(big_x.T, y))  # Ваш код здесь"
   ]
  },
  {
   "cell_type": "code",
   "execution_count": 19,
   "metadata": {},
   "outputs": [],
   "source": [
    "norm_eq_weights = normal_equation(X, y)\n",
    "print(norm_eq_weights)"
   ]
  },
  {
   "cell_type": "markdown",
   "metadata": {},
   "source": [
    "**Какие продажи предсказываются линейной моделью с весами, найденными с помощью нормального уравнения, в случае средних инвестиций в рекламу по ТВ, радио и в газетах? (то есть при нулевых значениях масштабированных признаков TV, Radio и Newspaper). Запишите ответ в файл '2.txt'.**"
   ]
  },
  {
   "cell_type": "code",
   "execution_count": 20,
   "metadata": {},
   "outputs": [
    {
     "name": "stdout",
     "output_type": "stream",
     "text": [
      "14.0225\n"
     ]
    }
   ],
   "source": [
    "answer2 = np.dot(np.array([1, 0, 0, 0]), norm_eq_weights)\n",
    "print(answer2)\n",
    "write_answer_to_file(answer2, '2.txt')"
   ]
  },
  {
   "cell_type": "markdown",
   "metadata": {},
   "source": [
    "**4. Напишите функцию *linear_prediction*, которая принимает на вход матрицу *X* и вектор весов линейной модели *w*, а возвращает вектор прогнозов в виде линейной комбинации столбцов матрицы *X* с весами *w*.**"
   ]
  },
  {
   "cell_type": "code",
   "execution_count": 21,
   "metadata": {
    "collapsed": true
   },
   "outputs": [],
   "source": [
    "def linear_prediction(X, w):\n",
    "    return np.dot(X, w)"
   ]
  },
  {
   "cell_type": "markdown",
   "metadata": {},
   "source": [
    "**Какова среднеквадратичная ошибка прогноза значений Sales в виде линейной модели с весами, найденными с помощью нормального уравнения? Запишите ответ в файл '3.txt'.**"
   ]
  },
  {
   "cell_type": "code",
   "execution_count": 22,
   "metadata": {},
   "outputs": [],
   "source": [
    "answer3 = mserror(y, linear_prediction(X, norm_eq_weights))\n",
    "print(answer3)\n",
    "write_answer_to_file(answer3, '3.txt')"
   ]
  },
  {
   "cell_type": "markdown",
   "metadata": {},
   "source": [
    "**5. Напишите функцию *stochastic_gradient_step*, реализующую шаг стохастического градиентного спуска для линейной регрессии. Функция должна принимать матрицу *X*, вектора *y* и *w*, число *train_ind* - индекс объекта обучающей выборки (строки матрицы *X*), по которому считается изменение весов, а также число *$\\eta$* (eta) - шаг градиентного спуска (по умолчанию *eta*=0.01). Результатом будет вектор обновленных весов. Наша реализация функции будет явно написана для данных с 3 признаками, но несложно модифицировать для любого числа признаков, можете это сделать.**"
   ]
  },
  {
   "cell_type": "code",
   "execution_count": 23,
   "metadata": {},
   "outputs": [
    {
     "name": "stdout",
     "output_type": "stream",
     "text": [
      "200\n999\n999\n"
     ]
    }
   ],
   "source": [
    "print(X[:, 0].size)\n",
    "print(1999%1000)\n",
    "print(999%1000)"
   ]
  },
  {
   "cell_type": "code",
   "execution_count": 24,
   "metadata": {},
   "outputs": [],
   "source": [
    "def stochastic_gradient_step(X, y, w, train_ind, eta=0.01):\n",
    "    grad0 = (2 / X[:, 0].size) * ((w[3] + w[0]*X[train_ind, 0] + w[1]*X[train_ind, 1] + w[2]*X[train_ind, 2]) - y[train_ind])# Ваш код здесь\n",
    "    grad1 = grad0 * X[train_ind, 1]# Ваш код здесь\n",
    "    grad2 = grad0 * X[train_ind, 2]# Ваш код здесь\n",
    "    grad3 = grad0 * X[train_ind, 3]# Ваш код здесь\n",
    "    return  w - eta * np.array([grad0, grad1, grad2, grad3])"
   ]
  },
  {
   "cell_type": "markdown",
   "metadata": {},
   "source": [
    "**6. Напишите функцию *stochastic_gradient_descent*, реализующую стохастический градиентный спуск для линейной регрессии. Функция принимает на вход следующие аргументы:**\n",
    "- X - матрица, соответствующая обучающей выборке\n",
    "- y - вектор значений целевого признака\n",
    "- w_init - вектор начальных весов модели\n",
    "- eta - шаг градиентного спуска (по умолчанию 0.01)\n",
    "- max_iter - максимальное число итераций градиентного спуска (по умолчанию 10000)\n",
    "- max_weight_dist - максимальное евклидово расстояние между векторами весов на соседних итерациях градиентного спуска,\n",
    "при котором алгоритм прекращает работу (по умолчанию 1e-8)\n",
    "- seed - число, используемое для воспроизводимости сгенерированных псевдослучайных чисел (по умолчанию 42)\n",
    "- verbose - флаг печати информации (например, для отладки, по умолчанию False)\n",
    "\n",
    "**На каждой итерации в вектор (список) должно записываться текущее значение среднеквадратичной ошибки. Функция должна возвращать вектор весов $w$, а также вектор (список) ошибок.**"
   ]
  },
  {
   "cell_type": "code",
   "execution_count": 28,
   "metadata": {
    "collapsed": true
   },
   "outputs": [],
   "source": [
    "def stochastic_gradient_descent(X, y, w_init, eta=1e-2, max_iter=1e4,\n",
    "                                min_weight_dist=1e-8, seed=42, verbose=False):\n",
    "    # Инициализируем расстояние между векторами весов на соседних\n",
    "    # итерациях большим числом. \n",
    "    weight_dist = np.inf\n",
    "    # Инициализируем вектор весов\n",
    "    w = w_init\n",
    "    # Сюда будем записывать ошибки на каждой итерации\n",
    "    errors = []\n",
    "    # Счетчик итераций\n",
    "    iter_num = 0\n",
    "    # Будем порождать псевдослучайные числа \n",
    "    # (номер объекта, который будет менять веса), а для воспроизводимости\n",
    "    # этой последовательности псевдослучайных чисел используем seed.\n",
    "    np.random.seed(seed)\n",
    "        \n",
    "    # Основной цикл\n",
    "    while weight_dist > min_weight_dist and iter_num < max_iter:\n",
    "        # порождаем псевдослучайный \n",
    "        # индекс объекта обучающей выборки\n",
    "        random_ind = np.random.randint(X.shape[0])\n",
    "        \n",
    "        w1 = stochastic_gradient_step(X, y, w, random_ind)# Ваш код здесь\n",
    "        errors.append(mserror(y, linear_prediction(X, w1)))\n",
    "        if errors[iter_num] <= errors[iter_num -1] and len(errors) != 0:\n",
    "            w = w1\n",
    "        if (iter_num % 10000 == 0) and verbose:\n",
    "            print(f\"iter_num = {iter_num}\\nw = {w}\\nerror = {errors[iter_num]}\\n\")\n",
    "        iter_num += 1\n",
    "    return w, errors"
   ]
  },
  {
   "cell_type": "markdown",
   "metadata": {},
   "source": [
    " **Запустите $10^5$ итераций стохастического градиентного спуска. Укажите вектор начальных весов *w_init*, состоящий из нулей. Оставьте параметры  *eta* и *seed* равными их значениям по умолчанию (*eta*=0.01, *seed*=42 - это важно для проверки ответов).**"
   ]
  },
  {
   "cell_type": "code",
   "execution_count": 36,
   "metadata": {},
   "outputs": [
    {
     "name": "stdout",
     "output_type": "stream",
     "text": [
      "iter_num = 0\nw = [ 0.00148     0.0023012  -0.00131554 -0.00062364]\nerror = 223.66538899863156\n\niter_num = 10000\nw = [8.54521764 2.4776481  1.8049751  0.72397383]\nerror = 35.90679692843416\n\n"
     ]
    },
    {
     "name": "stdout",
     "output_type": "stream",
     "text": [
      "iter_num = 20000\nw = [11.51680438  3.29789623  2.51378059  0.96298205]\nerror = 10.252762312476088\n\niter_num = 30000\nw = [12.69886732  3.62732129  2.68833816  0.84177486]\nerror = 5.2903920256737775\n\n"
     ]
    },
    {
     "name": "stdout",
     "output_type": "stream",
     "text": [
      "iter_num = 40000\nw = [13.32077733  3.77289082  2.64308256  0.55057744]\nerror = 3.5811811445362207\n\niter_num = 50000\nw = [13.7782024   3.87626904  2.62690921  0.28186926]\nerror = 2.9292864201455684\n\n"
     ]
    },
    {
     "name": "stdout",
     "output_type": "stream",
     "text": [
      "iter_num = 60000\nw = [ 1.40196494e+01  3.91737949e+00  2.77358822e+00 -2.26522448e-03]\nerror = 2.7846255277753587\n\niter_num = 70000\nw = [14.0227238   3.91915573  2.79194755 -0.0225244 ]\nerror = 2.784126387578989\n\n"
     ]
    },
    {
     "name": "stdout",
     "output_type": "stream",
     "text": [
      "iter_num = 80000\nw = [14.02306892  3.91884017  2.79235461 -0.02263247]\nerror = 2.784127410564935\n\niter_num = 90000\nw = [14.02304128  3.91903037  2.79246596 -0.0223645 ]\nerror = 2.78412688569034\n\n"
     ]
    },
    {
     "name": "stdout",
     "output_type": "stream",
     "text": [
      "iter_num = 100000\nw = [14.02263408  3.91907833  2.79221336 -0.02260112]\nerror = 2.784126381498803\n\niter_num = 110000\nw = [14.02231293  3.91915333  2.79199733 -0.02200446]\nerror = 2.7841266190673277\n\n"
     ]
    },
    {
     "name": "stdout",
     "output_type": "stream",
     "text": [
      "iter_num = 120000\nw = [14.02287882  3.9193891   2.79219928 -0.02298662]\nerror = 2.784126647549879\n\niter_num = 130000\nw = [14.02268683  3.91899431  2.79225231 -0.02270718]\nerror = 2.7841264579586325\n\n"
     ]
    },
    {
     "name": "stdout",
     "output_type": "stream",
     "text": [
      "iter_num = 140000\nw = [14.02264319  3.91913001  2.7925725  -0.02333042]\nerror = 2.784127038800025\n\niter_num = 150000\nw = [14.02270605  3.9192429   2.7923297  -0.02297498]\nerror = 2.784126536487672\n\n"
     ]
    },
    {
     "name": "stdout",
     "output_type": "stream",
     "text": [
      "iter_num = 160000\nw = [14.02266963  3.91912792  2.79229962 -0.02267682]\nerror = 2.7841267020896097\n\niter_num = 170000\nw = [14.02237882  3.91952264  2.79190329 -0.02211611]\nerror = 2.7841272172579807\n\n"
     ]
    },
    {
     "name": "stdout",
     "output_type": "stream",
     "text": [
      "iter_num = 180000\nw = [14.02259381  3.91915841  2.7919413  -0.02226605]\nerror = 2.7841266291521207\n\niter_num = 190000\nw = [14.02265573  3.91913696  2.79239477 -0.02279578]\nerror = 2.7841269110790448\n\n"
     ]
    },
    {
     "name": "stdout",
     "output_type": "stream",
     "text": [
      "iter_num = 200000\nw = [14.02254809  3.91919045  2.79221533 -0.02268254]\nerror = 2.784126349236999\n\niter_num = 210000\nw = [14.02302339  3.91949957  2.79231893 -0.02252617]\nerror = 2.784126917070322\n\n"
     ]
    },
    {
     "name": "stdout",
     "output_type": "stream",
     "text": [
      "iter_num = 220000\nw = [14.02275804  3.91954209  2.79172016 -0.02243406]\nerror = 2.784126559800484\n\niter_num = 230000\nw = [14.02298757  3.91931708  2.79216969 -0.02254573]\nerror = 2.7841265678946208\n\n"
     ]
    },
    {
     "name": "stdout",
     "output_type": "stream",
     "text": [
      "iter_num = 240000\nw = [14.02298839  3.91953661  2.79250653 -0.02278555]\nerror = 2.7841268192579247\n\niter_num = 250000\nw = [14.02209861  3.91954786  2.79188228 -0.02222372]\nerror = 2.784126658337994\n\n"
     ]
    },
    {
     "name": "stdout",
     "output_type": "stream",
     "text": [
      "iter_num = 260000\nw = [14.02272412  3.91935842  2.79217705 -0.02277775]\nerror = 2.784126425086313\n\niter_num = 270000\nw = [14.02256494  3.91910698  2.79207321 -0.02220212]\nerror = 2.7841264507406875\n\n"
     ]
    },
    {
     "name": "stdout",
     "output_type": "stream",
     "text": [
      "iter_num = 280000\nw = [14.02244714  3.91886781  2.792096   -0.02260667]\nerror = 2.7841267035329658\n\niter_num = 290000\nw = [14.02262212  3.91983512  2.792247   -0.02258917]\nerror = 2.784126705856861\n\n"
     ]
    },
    {
     "name": "stdout",
     "output_type": "stream",
     "text": [
      "iter_num = 300000\nw = [14.02271364  3.91931819  2.79195011 -0.02261863]\nerror = 2.784126449366264\n\niter_num = 310000\nw = [14.0229573   3.91882302  2.79211441 -0.02262106]\nerror = 2.784126741525634\n\n"
     ]
    },
    {
     "name": "stdout",
     "output_type": "stream",
     "text": [
      "iter_num = 320000\nw = [14.0224725   3.91933187  2.79196328 -0.02248188]\nerror = 2.784126378993052\n\niter_num = 330000\nw = [14.02305896  3.91823727  2.79184109 -0.02288429]\nerror = 2.784127947358935\n\n"
     ]
    },
    {
     "name": "stdout",
     "output_type": "stream",
     "text": [
      "iter_num = 340000\nw = [14.02231146  3.9191845   2.79192505 -0.02276696]\nerror = 2.7841264510445627\n\niter_num = 350000\nw = [14.02290497  3.91869638  2.79212589 -0.02231043]\nerror = 2.7841269226977885\n\n"
     ]
    },
    {
     "name": "stdout",
     "output_type": "stream",
     "text": [
      "iter_num = 360000\nw = [14.02262764  3.91913242  2.79251625 -0.02258086]\nerror = 2.784126533934324\n\niter_num = 370000\nw = [14.02282321  3.91912094  2.79226468 -0.02225082]\nerror = 2.7841265940868483\n\n"
     ]
    },
    {
     "name": "stdout",
     "output_type": "stream",
     "text": [
      "iter_num = 380000\nw = [14.0226465   3.91928786  2.79204866 -0.0223851 ]\nerror = 2.7841263599162627\n\niter_num = 390000\nw = [14.0230543   3.91873401  2.79249734 -0.02240506]\nerror = 2.784127112104407\n\n"
     ]
    },
    {
     "name": "stdout",
     "output_type": "stream",
     "text": [
      "iter_num = 400000\nw = [14.02328403  3.91923568  2.79226529 -0.02230254]\nerror = 2.784127059283187\n\niter_num = 410000\nw = [14.02333004  3.91957144  2.79244401 -0.022225  ]\nerror = 2.784127457422665\n\n"
     ]
    },
    {
     "name": "stdout",
     "output_type": "stream",
     "text": [
      "iter_num = 420000\nw = [14.02292618  3.91979935  2.79220491 -0.02267143]\nerror = 2.7841268186910595\n\niter_num = 430000\nw = [14.02307789  3.91905964  2.79204882 -0.02234   ]\nerror = 2.784127105225324\n\n"
     ]
    },
    {
     "name": "stdout",
     "output_type": "stream",
     "text": [
      "iter_num = 440000\nw = [14.02267834  3.91931611  2.79284678 -0.02290297]\nerror = 2.7841269198456176\n\niter_num = 450000\nw = [14.02294924  3.91983199  2.79232393 -0.02254477]\nerror = 2.7841270436784873\n\n"
     ]
    },
    {
     "name": "stdout",
     "output_type": "stream",
     "text": [
      "iter_num = 460000\nw = [14.02291206  3.91928771  2.79283794 -0.02248435]\nerror = 2.784127122233467\n\niter_num = 470000\nw = [14.02281513  3.91885738  2.79196583 -0.02259724]\nerror = 2.784126594542262\n\n"
     ]
    },
    {
     "name": "stdout",
     "output_type": "stream",
     "text": [
      "iter_num = 480000\nw = [14.02254263  3.91928312  2.79231163 -0.02265955]\nerror = 2.7841263728526195\n\niter_num = 490000\nw = [14.02298421  3.9194922   2.79232724 -0.02236071]\nerror = 2.7841269504262094\n\n"
     ]
    },
    {
     "name": "stdout",
     "output_type": "stream",
     "text": [
      "iter_num = 500000\nw = [14.02266568  3.91940894  2.79209976 -0.02270092]\nerror = 2.7841264701358286\n\niter_num = 510000\nw = [14.02261012  3.91930372  2.79175866 -0.0225351 ]\nerror = 2.7841264234900382\n\n"
     ]
    },
    {
     "name": "stdout",
     "output_type": "stream",
     "text": [
      "iter_num = 520000\nw = [14.02305101  3.9187386   2.79195223 -0.02212305]\nerror = 2.784127347940779\n\niter_num = 530000\nw = [14.02217685  3.91909917  2.79105371 -0.02249161]\nerror = 2.784127445836565\n\n"
     ]
    },
    {
     "name": "stdout",
     "output_type": "stream",
     "text": [
      "iter_num = 540000\nw = [14.02262836  3.91868079  2.79226677 -0.02349984]\nerror = 2.7841279231429974\n\niter_num = 550000\nw = [14.02266673  3.91914387  2.79220375 -0.02291172]\nerror = 2.7841265634055663\n\n"
     ]
    },
    {
     "name": "stdout",
     "output_type": "stream",
     "text": [
      "iter_num = 560000\nw = [14.02256988  3.91913195  2.79179007 -0.02247335]\nerror = 2.784126402951425\n\niter_num = 570000\nw = [14.02241775  3.91943411  2.79166297 -0.02225741]\nerror = 2.784126510959798\n\n"
     ]
    },
    {
     "name": "stdout",
     "output_type": "stream",
     "text": [
      "iter_num = 580000\nw = [14.02274043  3.91920663  2.79192095 -0.02224977]\nerror = 2.78412644825386\n\niter_num = 590000\nw = [14.02240646  3.91870778  2.7920194  -0.02318253]\nerror = 2.7841275398822165\n\n"
     ]
    },
    {
     "name": "stdout",
     "output_type": "stream",
     "text": [
      "iter_num = 600000\nw = [14.02264959  3.91920314  2.79192704 -0.0222341 ]\nerror = 2.7841265240460586\n\niter_num = 610000\nw = [14.02291489  3.91918462  2.79221765 -0.02284658]\nerror = 2.7841281271686023\n\n"
     ]
    },
    {
     "name": "stdout",
     "output_type": "stream",
     "text": [
      "iter_num = 620000\nw = [14.0224273   3.91920253  2.79219016 -0.02275695]\nerror = 2.7841266128382838\n\niter_num = 630000\nw = [14.02273876  3.91940121  2.79201826 -0.0223088 ]\nerror = 2.784126485155875\n\n"
     ]
    },
    {
     "name": "stdout",
     "output_type": "stream",
     "text": [
      "iter_num = 640000\nw = [14.02247348  3.91910776  2.79219711 -0.02291661]\nerror = 2.784126486196067\n\niter_num = 650000\nw = [14.02264683  3.91897792  2.79206097 -0.02245329]\nerror = 2.784126416666006\n\n"
     ]
    },
    {
     "name": "stdout",
     "output_type": "stream",
     "text": [
      "iter_num = 660000\nw = [14.02272183  3.91908957  2.79182273 -0.0222961 ]\nerror = 2.784126500370749\n\niter_num = 670000\nw = [14.02285272  3.91952637  2.79179314 -0.02234913]\nerror = 2.784126610844402\n\n"
     ]
    },
    {
     "name": "stdout",
     "output_type": "stream",
     "text": [
      "iter_num = 680000\nw = [14.02249442  3.91926075  2.79190654 -0.02257444]\nerror = 2.784126594467036\n\niter_num = 690000\nw = [14.02222389  3.91874808  2.79160766 -0.02221946]\nerror = 2.7841271686938422\n\n"
     ]
    },
    {
     "name": "stdout",
     "output_type": "stream",
     "text": [
      "iter_num = 700000\nw = [14.02278333  3.91924341  2.79203838 -0.02260749]\nerror = 2.7841264143546245\n\niter_num = 710000\nw = [14.02273     3.91914449  2.79212509 -0.02251761]\nerror = 2.784126558497923\n\n"
     ]
    },
    {
     "name": "stdout",
     "output_type": "stream",
     "text": [
      "iter_num = 720000\nw = [14.02274719  3.91896145  2.79262233 -0.02261615]\nerror = 2.784126734053947\n\niter_num = 730000\nw = [14.02234585  3.91887872  2.79220058 -0.0227332 ]\nerror = 2.784126519321916\n\n"
     ]
    },
    {
     "name": "stdout",
     "output_type": "stream",
     "text": [
      "iter_num = 740000\nw = [14.02255075  3.9192806   2.79215284 -0.02268463]\nerror = 2.784126337755404\n\niter_num = 750000\nw = [14.02223504  3.91977868  2.79213679 -0.02219156]\nerror = 2.7841280050830335\n\n"
     ]
    },
    {
     "name": "stdout",
     "output_type": "stream",
     "text": [
      "iter_num = 760000\nw = [14.02273362  3.91892202  2.79199627 -0.02258728]\nerror = 2.7841266182550983\n\niter_num = 770000\nw = [14.02239668  3.91887553  2.79249592 -0.02231344]\nerror = 2.784126759088608\n\n"
     ]
    },
    {
     "name": "stdout",
     "output_type": "stream",
     "text": [
      "iter_num = 780000\nw = [14.02326589  3.91914811  2.79192459 -0.02276174]\nerror = 2.7841270072171627\n\niter_num = 790000\nw = [14.02302977  3.91901334  2.79211946 -0.02251024]\nerror = 2.7841267144102435\n\n"
     ]
    },
    {
     "name": "stdout",
     "output_type": "stream",
     "text": [
      "iter_num = 800000\nw = [14.02223883  3.91930849  2.79197007 -0.02206908]\nerror = 2.78412660242766\n\niter_num = 810000\nw = [14.02267701  3.91913266  2.7921628  -0.02251895]\nerror = 2.7841264200808538\n\n"
     ]
    },
    {
     "name": "stdout",
     "output_type": "stream",
     "text": [
      "iter_num = 820000\nw = [14.02259328  3.91862285  2.79214519 -0.02242048]\nerror = 2.7841267917267465\n\niter_num = 830000\nw = [14.02286133  3.91971679  2.79238129 -0.02227065]\nerror = 2.784126923522599\n\n"
     ]
    },
    {
     "name": "stdout",
     "output_type": "stream",
     "text": [
      "iter_num = 840000\nw = [14.02278321  3.91941856  2.79223954 -0.02256323]\nerror = 2.7841264661422214\n\niter_num = 850000\nw = [14.0223451   3.91904385  2.79213047 -0.02279129]\nerror = 2.784126443285853\n\n"
     ]
    },
    {
     "name": "stdout",
     "output_type": "stream",
     "text": [
      "iter_num = 860000\nw = [14.02269532  3.91923995  2.79216942 -0.02279191]\nerror = 2.7841270288511955\n\niter_num = 870000\nw = [14.02252789  3.91927544  2.79201878 -0.02243753]\nerror = 2.7841263249110146\n\n"
     ]
    },
    {
     "name": "stdout",
     "output_type": "stream",
     "text": [
      "iter_num = 880000\nw = [14.02261542  3.9188791   2.79203132 -0.02278073]\nerror = 2.7841266113062404\n\niter_num = 890000\nw = [14.02261177  3.91910707  2.79223386 -0.02286977]\nerror = 2.784126498615546\n\n"
     ]
    },
    {
     "name": "stdout",
     "output_type": "stream",
     "text": [
      "iter_num = 900000\nw = [14.02266378  3.91918987  2.79207243 -0.02239689]\nerror = 2.7841263654611232\n\niter_num = 910000\nw = [14.02256885  3.91923307  2.79220782 -0.02282779]\nerror = 2.78412645564027\n\n"
     ]
    },
    {
     "name": "stdout",
     "output_type": "stream",
     "text": [
      "iter_num = 920000\nw = [14.02242098  3.91942968  2.79190323 -0.02222212]\nerror = 2.78412644482721\n\niter_num = 930000\nw = [14.02312422  3.91886683  2.7928799  -0.02284783]\nerror = 2.7841276989841113\n\n"
     ]
    },
    {
     "name": "stdout",
     "output_type": "stream",
     "text": [
      "iter_num = 940000\nw = [14.02282252  3.91913584  2.79196978 -0.02234456]\nerror = 2.78412647257331\n\niter_num = 950000\nw = [14.0226145   3.91924069  2.79234313 -0.02266714]\nerror = 2.7841263971916947\n\n"
     ]
    },
    {
     "name": "stdout",
     "output_type": "stream",
     "text": [
      "iter_num = 960000\nw = [14.02272061  3.91901866  2.79232235 -0.02265521]\nerror = 2.784126474374658\n\niter_num = 970000\nw = [14.02280226  3.91933914  2.79307992 -0.02318506]\nerror = 2.7841284781324713\n\n"
     ]
    },
    {
     "name": "stdout",
     "output_type": "stream",
     "text": [
      "iter_num = 980000\nw = [14.0224177   3.91852937  2.79174903 -0.02264663]\nerror = 2.7841273903699344\n\niter_num = 990000\nw = [14.02242354  3.91938701  2.79231843 -0.02331689]\nerror = 2.784127091740978\n\n"
     ]
    },
    {
     "name": "stdout",
     "output_type": "stream",
     "text": [
      "Wall time: 17.6 s\n"
     ]
    }
   ],
   "source": [
    "%%time\n",
    "w_init = [0, 0, 0, 0]\n",
    "stoch_grad_desc_weights, stoch_errors_by_iter = stochastic_gradient_descent(X, y, w_init, eta=1e-2, max_iter=1e6,\n",
    "                                min_weight_dist=1e-8, seed=42, verbose=True)# Ваш код здесь"
   ]
  },
  {
   "cell_type": "markdown",
   "metadata": {},
   "source": [
    "**Посмотрим, чему равна ошибка на первых 50 итерациях стохастического градиентного спуска. Видим, что ошибка не обязательно уменьшается на каждой итерации.**"
   ]
  },
  {
   "cell_type": "code",
   "execution_count": 30,
   "metadata": {},
   "outputs": [
    {
     "name": "stdout",
     "output_type": "stream",
     "text": [
      "Populating the interactive namespace from numpy and matplotlib\n"
     ]
    },
    {
     "data": {
      "text/plain": [
       "Text(0,0.5,'MSE')"
      ]
     },
     "execution_count": 30,
     "metadata": {},
     "output_type": "execute_result"
    },
    {
     "data": {
      "image/png": "[encoded data removed]",
      "text/plain": [
       "<matplotlib.figure.Figure at 0x1962d4a8>"
      ]
     },
     "metadata": {},
     "output_type": "display_data"
    }
   ],
   "source": [
    "%pylab inline\n",
    "plot(range(50), stoch_errors_by_iter[:50])\n",
    "xlabel('Iteration number')\n",
    "ylabel('MSE')"
   ]
  },
  {
   "cell_type": "markdown",
   "metadata": {},
   "source": [
    "**Теперь посмотрим на зависимость ошибки от номера итерации для $10^5$ итераций стохастического градиентного спуска. Видим, что алгоритм сходится.**"
   ]
  },
  {
   "cell_type": "code",
   "execution_count": 31,
   "metadata": {
    "collapsed": true
   },
   "outputs": [
    {
     "name": "stdout",
     "output_type": "stream",
     "text": [
      "Populating the interactive namespace from numpy and matplotlib\n"
     ]
    },
    {
     "data": {
      "text/plain": [
       "Text(0,0.5,'MSE')"
      ]
     },
     "execution_count": 31,
     "metadata": {},
     "output_type": "execute_result"
    },
    {
     "data": {
      "image/png": "[encoded data removed]",
      "text/plain": [
       "<matplotlib.figure.Figure at 0x19bcb400>"
      ]
     },
     "metadata": {},
     "output_type": "display_data"
    }
   ],
   "source": [
    "%pylab inline\n",
    "plot(range(len(stoch_errors_by_iter)), stoch_errors_by_iter)\n",
    "xlabel('Iteration number')\n",
    "ylabel('MSE')"
   ]
  },
  {
   "cell_type": "markdown",
   "metadata": {},
   "source": [
    "**Посмотрим на вектор весов, к которому сошелся метод.**"
   ]
  },
  {
   "cell_type": "code",
   "execution_count": 32,
   "metadata": {},
   "outputs": [
    {
     "data": {
      "text/plain": [
       "array([14.02261758,  3.9190653 ,  2.79221254, -0.02258094])"
      ]
     },
     "execution_count": 32,
     "metadata": {},
     "output_type": "execute_result"
    }
   ],
   "source": [
    "stoch_grad_desc_weights"
   ]
  },
  {
   "cell_type": "markdown",
   "metadata": {},
   "source": [
    "**Посмотрим на среднеквадратичную ошибку на последней итерации.**"
   ]
  },
  {
   "cell_type": "code",
   "execution_count": 33,
   "metadata": {},
   "outputs": [
    {
     "data": {
      "text/plain": [
       "2.7841270347076557"
      ]
     },
     "execution_count": 33,
     "metadata": {},
     "output_type": "execute_result"
    }
   ],
   "source": [
    "stoch_errors_by_iter[-1]"
   ]
  },
  {
   "cell_type": "markdown",
   "metadata": {},
   "source": [
    "**Какова среднеквадратичная ошибка прогноза значений Sales в виде линейной модели с весами, найденными с помощью градиентного спуска? Запишите ответ в файл '4.txt'.**"
   ]
  },
  {
   "cell_type": "code",
   "execution_count": 34,
   "metadata": {},
   "outputs": [
    {
     "name": "stdout",
     "output_type": "stream",
     "text": [
      "2.7841263813658577\n"
     ]
    }
   ],
   "source": [
    "answer4 = mserror(y, linear_prediction(X, stoch_grad_desc_weights))# Ваш код здесь\n",
    "print(answer4)\n",
    "write_answer_to_file(answer4, '4.txt')"
   ]
  },
  {
   "cell_type": "markdown",
   "metadata": {},
   "source": [
    "**Ответами к заданию будут текстовые файлы, полученные в ходе этого решения. Обратите внимание, что отправленные файлы не должны содержать пустую строку в конце. Данный нюанс является ограничением платформы Coursera. Мы работаем над исправлением этого ограничения.**"
   ]
  }
 ],
 "metadata": {
  "kernelspec": {
   "display_name": "Python 3",
   "language": "python",
   "name": "python3"
  },
  "language_info": {
   "codemirror_mode": {
    "name": "ipython",
    "version": 3
   },
   "file_extension": ".py",
   "mimetype": "text/x-python",
   "name": "python",
   "nbconvert_exporter": "python",
   "pygments_lexer": "ipython3",
   "version": "3.6.3"
  }
 },
 "nbformat": 4,
 "nbformat_minor": 1
}
